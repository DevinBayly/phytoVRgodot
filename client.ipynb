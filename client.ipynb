{
 "cells": [
  {
   "cell_type": "code",
   "execution_count": 1,
   "id": "f38dfc0f",
   "metadata": {},
   "outputs": [],
   "source": [
    "import socket"
   ]
  },
  {
   "cell_type": "code",
   "execution_count": 2,
   "id": "9ff4d7a2",
   "metadata": {},
   "outputs": [],
   "source": [
    "udp = socket.socket(family = socket.AF_INET,type=socket.SOCK_DGRAM)"
   ]
  },
  {
   "cell_type": "code",
   "execution_count": 3,
   "id": "15eaa6e5",
   "metadata": {},
   "outputs": [],
   "source": [
    "serverPort = (\"localhost\",58886)"
   ]
  },
  {
   "cell_type": "code",
   "execution_count": 11,
   "id": "43b5387e",
   "metadata": {},
   "outputs": [
    {
     "data": {
      "text/plain": [
       "11"
      ]
     },
     "execution_count": 11,
     "metadata": {},
     "output_type": "execute_result"
    }
   ],
   "source": [
    "udp.sendto(b\"hello there\",serverPort)"
   ]
  },
  {
   "cell_type": "code",
   "execution_count": 13,
   "id": "071ab510",
   "metadata": {},
   "outputs": [],
   "source": [
    "import numpy as np\n",
    "from PIL import Image"
   ]
  },
  {
   "cell_type": "code",
   "execution_count": 14,
   "id": "64ff3f3c",
   "metadata": {},
   "outputs": [],
   "source": [
    "arr = np.random.random((256,256,3))\n",
    "col = arr*255\n",
    "im = Image.fromarray(col.astype(\"uint8\"))"
   ]
  },
  {
   "cell_type": "code",
   "execution_count": 17,
   "id": "e47100f8",
   "metadata": {},
   "outputs": [],
   "source": [
    "from io import BytesIO"
   ]
  },
  {
   "cell_type": "code",
   "execution_count": null,
   "id": "fc032a86",
   "metadata": {},
   "outputs": [],
   "source": []
  },
  {
   "cell_type": "code",
   "execution_count": 18,
   "id": "f1ce9e6d",
   "metadata": {},
   "outputs": [],
   "source": [
    "buf = BytesIO()\n",
    "\n",
    "im.save(buf,format=\"png\")"
   ]
  },
  {
   "cell_type": "code",
   "execution_count": 35,
   "id": "92f94ff8",
   "metadata": {},
   "outputs": [],
   "source": [
    "import time"
   ]
  },
  {
   "cell_type": "code",
   "execution_count": 54,
   "id": "a2cb1019",
   "metadata": {},
   "outputs": [
    {
     "name": "stdout",
     "output_type": "stream",
     "text": [
      "sending 0:20000\n",
      "num is  0 continue\n",
      "sending 20000:40000\n",
      "num is  1 continue\n",
      "sending 40000:60000\n",
      "num is  2 continue\n",
      "sending 60000:80000\n",
      "num is  3 continue\n",
      "sending 80000:100000\n",
      "num is  4 continue\n",
      "sending 100000:120000\n",
      "num is  5 continue\n",
      "sending 120000:140000\n",
      "num is  6 continue\n",
      "sending 140000:160000\n",
      "num is  7 continue\n",
      "sending 160000:180000\n",
      "num is  8 continue\n",
      "197171\n"
     ]
    }
   ],
   "source": [
    "cursor = 0\n",
    "chunk = 20000\n",
    "data = buf.getvalue()\n",
    "num = 0\n",
    "while (cursor+chunk) < len(data):\n",
    "    #time.sleep(.5)\n",
    "    print(f\"sending {cursor}:{cursor+chunk}\",)\n",
    "    udp.sendto(data[cursor:cursor+chunk],serverPort)\n",
    "    resp = udp.recvfrom(1024)[0]\n",
    "    print(\"num is \",num,resp.decode(\"utf-8\"))\n",
    "    #udp.sendto(f\"{num}\".encode(),serverPort)\n",
    "    cursor += chunk\n",
    "    num+=1\n",
    "udp.sendto(data[cursor:],serverPort)\n",
    "resp = udp.recvfrom(1024)[0]\n",
    "udp.sendto(b'',serverPort)\n",
    "print(len(data))\n",
    "#udp.sendto(f\"{num}\".encode(),serverPort)"
   ]
  },
  {
   "cell_type": "code",
   "execution_count": 47,
   "id": "22e191df",
   "metadata": {},
   "outputs": [
    {
     "data": {
      "text/plain": [
       "202171"
      ]
     },
     "execution_count": 47,
     "metadata": {},
     "output_type": "execute_result"
    }
   ],
   "source": [
    "197171 + chunk"
   ]
  },
  {
   "cell_type": "code",
   "execution_count": 32,
   "id": "bb3a1b9b",
   "metadata": {},
   "outputs": [
    {
     "data": {
      "text/plain": [
       "39"
      ]
     },
     "execution_count": 32,
     "metadata": {},
     "output_type": "execute_result"
    }
   ],
   "source": [
    "len(data)//chunk"
   ]
  },
  {
   "cell_type": "code",
   "execution_count": 43,
   "id": "212e5c4d",
   "metadata": {},
   "outputs": [
    {
     "data": {
      "text/plain": [
       "0"
      ]
     },
     "execution_count": 43,
     "metadata": {},
     "output_type": "execute_result"
    }
   ],
   "source": [
    "udp.sendto(b'',serverPort)"
   ]
  },
  {
   "cell_type": "markdown",
   "id": "f1dcf9c9",
   "metadata": {},
   "source": [
    "trying instead with a tcp connection now"
   ]
  },
  {
   "cell_type": "code",
   "execution_count": 71,
   "id": "cca4e40b",
   "metadata": {},
   "outputs": [
    {
     "data": {
      "text/plain": [
       "197171"
      ]
     },
     "execution_count": 71,
     "metadata": {},
     "output_type": "execute_result"
    }
   ],
   "source": [
    "len(data)"
   ]
  },
  {
   "cell_type": "code",
   "execution_count": 75,
   "id": "e64629e6",
   "metadata": {},
   "outputs": [
    {
     "name": "stdout",
     "output_type": "stream",
     "text": [
      "None\n"
     ]
    }
   ],
   "source": [
    "# Echo client program\n",
    "import socket\n",
    "\n",
    "HOST = 'localhost'    # The remote host\n",
    "PORT = 58887             # The same port as used by the server\n",
    "data = buf.getvalue()\n",
    "\n",
    "with socket.socket(socket.AF_INET, socket.SOCK_STREAM) as s:\n",
    "    res = s.connect((HOST, PORT))\n",
    "    print(res)\n",
    "    s.sendall(data)\n",
    "    data = s.recv(1024)\n"
   ]
  },
  {
   "cell_type": "code",
   "execution_count": null,
   "id": "7918639e",
   "metadata": {},
   "outputs": [],
   "source": []
  }
 ],
 "metadata": {
  "kernelspec": {
   "display_name": "Python 3 (ipykernel)",
   "language": "python",
   "name": "python3"
  },
  "language_info": {
   "codemirror_mode": {
    "name": "ipython",
    "version": 3
   },
   "file_extension": ".py",
   "mimetype": "text/x-python",
   "name": "python",
   "nbconvert_exporter": "python",
   "pygments_lexer": "ipython3",
   "version": "3.9.12"
  }
 },
 "nbformat": 4,
 "nbformat_minor": 5
}
